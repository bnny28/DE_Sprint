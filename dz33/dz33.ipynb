{
 "cells": [
  {
   "cell_type": "code",
   "execution_count": 1,
   "outputs": [],
   "source": [
    "import findspark\n",
    "from pyspark import SparkContext, SparkConf\n",
    "from pyspark.sql import SparkSession\n",
    "from pyspark.sql.functions import col, lit, rand, array\n",
    "from pyspark.sql.types import StructType, StructField, IntegerType, LongType, StringType, BooleanType\n",
    "\n",
    "findspark.init()\n",
    "\n",
    "conf = SparkConf().setAppName('dz 33').setMaster('local')\n",
    "sc = SparkContext(conf=conf)\n",
    "spark = SparkSession(sc)"
   ],
   "metadata": {
    "collapsed": false,
    "pycharm": {
     "name": "#%%\n"
    }
   }
  },
  {
   "cell_type": "code",
   "execution_count": 2,
   "outputs": [],
   "source": [
    "# Создайте схему будущего фрейма данных. Схема должна включать следующие атрибуты:\n",
    "\n",
    "# id - уникальный идентификатор посетителя сайта. Тип – последовательность чисел фиксированной длины.\n",
    "# Данное поле не является первичным ключом.\n",
    "\n",
    "# timestamp – дата и время события в формате unix timestamp.\n",
    "\n",
    "# type – тип события, значение из списка (факт посещения(visit), клик по визуальному элементу страницы(click),\n",
    "# скролл(scroll), перед на другую страницу(move)).\n",
    "\n",
    "# page_id – id текущей страницы. Тип - последовательность чисел фиксированной длины.\n",
    "\n",
    "# tag - каждая страница с новостью размечается редакцией специальными тегами, которые отражают тематику\n",
    "# конкретной новости со страницы. Возможный список тематик: политика, спорт, медицина и т.д.\n",
    "\n",
    "# sign – наличие у пользователя личного кабинета. Значения – True/False.\n",
    "schema = StructType([StructField(\"id\", IntegerType()),\n",
    "                     StructField(\"timestamp\", LongType()),\n",
    "                     StructField(\"type\", StringType()),\n",
    "                     StructField(\"page_id\", IntegerType()),\n",
    "                     StructField(\"tag\", StringType()),\n",
    "                     StructField(\"sign\", BooleanType()),\n",
    "                     ])"
   ],
   "metadata": {
    "collapsed": false,
    "pycharm": {
     "name": "#%%\n"
    }
   }
  },
  {
   "cell_type": "code",
   "execution_count": 3,
   "outputs": [
    {
     "name": "stdout",
     "output_type": "stream",
     "text": [
      "+----+----------+------+-------+--------+-----+\n",
      "|  id| timestamp|  type|page_id|     tag| sign|\n",
      "+----+----------+------+-------+--------+-----+\n",
      "|8324|1668816000|scroll|   3778|medicine|false|\n",
      "|8324|1668988800| click|    420| economy|false|\n",
      "|3497|1668988800| visit|   4969|medicine|false|\n",
      "|8980|1668988800|scroll|   4969|medicine| true|\n",
      "|7089|1668902400|  move|   4007| economy|false|\n",
      "+----+----------+------+-------+--------+-----+\n",
      "only showing top 5 rows\n",
      "\n"
     ]
    }
   ],
   "source": [
    "# Создайте датафрейм с описанной выше схемой данных.\n",
    "# Наполните датафрейм данными.\n",
    "\n",
    "data = [\n",
    "    (8324, 1668816000, 'scroll', 3778, 'medicine', False),\n",
    "    (8324, 1668988800, 'click', 420, 'economy', False),\n",
    "    (3497, 1668988800, 'visit', 4969, 'medicine', False),\n",
    "    (8980, 1668988800, 'scroll', 4969, 'medicine', True),\n",
    "    (7089, 1668902400, 'move', 4007, 'economy', False),\n",
    "    (1634, 1668988800, 'visit', 420, 'economy', True),\n",
    "    (8324, 1668816000, 'visit', 8049, 'sport', False),\n",
    "    (8980, 1668988800, 'scroll', 7863, 'politics', True),\n",
    "    (3677, 1668729600, 'click', 3664, 'sport', True),\n",
    "    (3497, 1668902400, 'scroll', 9154, 'culture', False),\n",
    "    (8980, 1668902400, 'scroll', 4969, 'medicine', True),\n",
    "    (8324, 1668902400, 'scroll', 7863, 'politics', False),\n",
    "    (7089, 1668729600, 'move', 5360, 'sport', False),\n",
    "    (4120, 1669161600, 'scroll', 9154, 'culture', True),\n",
    "    (8980, 1668902400, 'move', 4007, 'economy', True),\n",
    "    (4419, 1668816000, 'scroll', 9154, 'culture', True),\n",
    "    (6431, 1668729600, 'visit', 4969, 'medicine', False),\n",
    "    (3497, 1668816000, 'move', 420, 'economy', False),\n",
    "    (8324, 1668902400, 'click', 8049, 'sport', False),\n",
    "    (8980, 1668988800, 'visit', 4007, 'economy', True),\n",
    "    (8324, 1669161600, 'move', 7863, 'politics', False),\n",
    "    (8324, 1668729600, 'click', 7863, 'politics', False),\n",
    "    (3677, 1669075200, 'click', 4007, 'economy', True),\n",
    "    (8980, 1668902400, 'move', 9154, 'culture', True),\n",
    "    (8980, 1668729600, 'scroll', 7863, 'politics', True),\n",
    "    (6431, 1668988800, 'visit', 3664, 'sport', False),\n",
    "    (8980, 1669075200, 'move', 4969, 'medicine', True),\n",
    "    (8980, 1668988800, 'visit', 3664, 'sport', True),\n",
    "    (9998, 1669161600, 'visit', 5360, 'sport', True),\n",
    "    (7089, 1668816000, 'visit', 5360, 'sport', False),\n",
    "    (1634, 1669161600, 'click', 3778, 'medicine', True),\n",
    "    (4419, 1669075200, 'click', 4969, 'medicine', True),\n",
    "    (6431, 1668902400, 'visit', 3778, 'medicine', False),\n",
    "    (9998, 1668816000, 'visit', 3664, 'sport', True),\n",
    "    (8324, 1668902400, 'click', 4969, 'medicine', False),\n",
    "    (7089, 1668729600, 'scroll', 420, 'economy', False),\n",
    "    (3497, 1668729600, 'visit', 4007, 'economy', False),\n",
    "    (1634, 1668988800, 'move', 7863, 'politics', True),\n",
    "    (8980, 1668988800, 'move', 4007, 'economy', True),\n",
    "    (8324, 1668902400, 'scroll', 7863, 'politics', False),\n",
    "    (6431, 1668729600, 'visit', 420, 'economy', False),\n",
    "    (8980, 1669161600, 'move', 562, 'medicine', True),\n",
    "    (7089, 1668988800, 'visit', 9154, 'culture', False),\n",
    "    (1634, 1668988800, 'scroll', 9154, 'culture', True),\n",
    "    (3497, 1668816000, 'visit', 4007, 'economy', False),\n",
    "    (8980, 1669161600, 'scroll', 3778, 'medicine', True),\n",
    "    (3497, 1669161600, 'move', 562, 'medicine', False),\n",
    "    (3677, 1668729600, 'move', 420, 'economy', True),\n",
    "    (6431, 1668729600, 'click', 4969, 'medicine', False),\n",
    "    (8324, 1668902400, 'visit', 9154, 'culture', False),\n",
    "    (4419, 1669161600, 'move', 4969, 'medicine', True),\n",
    "    (9998, 1668988800, 'move', 3778, 'medicine', True),\n",
    "    (4120, 1669075200, 'visit', 420, 'economy', True),\n",
    "    (9998, 1668902400, 'visit', 7863, 'politics', True),\n",
    "    (6431, 1669075200, 'scroll', 3664, 'sport', False),\n",
    "    (4419, 1668988800, 'click', 8049, 'sport', True),\n",
    "    (9998, 1669161600, 'visit', 3778, 'medicine', True),\n",
    "    (4120, 1668902400, 'move', 3778, 'medicine', True),\n",
    "    (8980, 1668816000, 'scroll', 7863, 'politics', True),\n",
    "    (4120, 1668816000, 'visit', 9154, 'culture', True),\n",
    "    (4120, 1668988800, 'click', 3664, 'sport', True),\n",
    "    (3497, 1669161600, 'move', 7863, 'politics', False),\n",
    "    (4419, 1668902400, 'move', 4969, 'medicine', True),\n",
    "    (8980, 1669161600, 'visit', 5360, 'sport', True),\n",
    "    (1634, 1668902400, 'move', 8049, 'sport', True),\n",
    "    (4419, 1668988800, 'click', 420, 'economy', True),\n",
    "    (4120, 1668729600, 'click', 4007, 'economy', True),\n",
    "    (4419, 1668729600, 'scroll', 3664, 'sport', True),\n",
    "    (3497, 1669075200, 'move', 9154, 'culture', False),\n",
    "    (1634, 1669075200, 'move', 3664, 'sport', True),\n",
    "    (8324, 1668988800, 'visit', 7863, 'politics', False),\n",
    "    (6431, 1668729600, 'move', 9154, 'culture', False),\n",
    "    (8980, 1668729600, 'visit', 9154, 'culture', True),\n",
    "    (8980, 1668902400, 'move', 420, 'economy', True),\n",
    "    (8980, 1669161600, 'click', 562, 'medicine', True),\n",
    "    (4120, 1668816000, 'scroll', 562, 'medicine', True),\n",
    "    (3497, 1668988800, 'visit', 4007, 'economy', False),\n",
    "    (8324, 1669161600, 'move', 9154, 'culture', False),\n",
    "    (7089, 1668729600, 'visit', 9154, 'culture', False),\n",
    "    (9998, 1668902400, 'click', 5360, 'sport', True),\n",
    "    (3677, 1669161600, 'scroll', 8049, 'sport', True),\n",
    "    (3677, 1669161600, 'move', 3778, 'medicine', True),\n",
    "    (4419, 1668988800, 'click', 4007, 'economy', True),\n",
    "    (9998, 1668816000, 'move', 3778, 'medicine', True),\n",
    "    (4419, 1669161600, 'click', 7863, 'politics', True),\n",
    "    (4419, 1668816000, 'scroll', 9154, 'culture', True),\n",
    "    (9998, 1668988800, 'move', 562, 'medicine', True),\n",
    "    (3677, 1669161600, 'click', 9154, 'culture', True),\n",
    "    (4419, 1668729600, 'move', 4007, 'economy', True),\n",
    "    (6431, 1668988800, 'move', 3778, 'medicine', False),\n",
    "    (1634, 1668988800, 'click', 5360, 'sport', True),\n",
    "    (7089, 1668729600, 'move', 3664, 'sport', False),\n",
    "    (6431, 1668729600, 'click', 7863, 'politics', False),\n",
    "    (7089, 1668816000, 'move', 7863, 'politics', False),\n",
    "    (3677, 1669161600, 'click', 4007, 'economy', True),\n",
    "    (4419, 1668816000, 'scroll', 3778, 'medicine', True),\n",
    "    (8324, 1669075200, 'click', 562, 'medicine', False),\n",
    "    (4120, 1669075200, 'scroll', 7863, 'politics', True),\n",
    "    (4120, 1668729600, 'visit', 7863, 'politics', True),\n",
    "    (4419, 1668902400, 'click', 8049, 'sport', True),\n",
    "]\n",
    "\n",
    "df = spark.createDataFrame(data=data, schema=schema)\n",
    "df.show(5)"
   ],
   "metadata": {
    "collapsed": false,
    "pycharm": {
     "name": "#%%\n"
    }
   }
  },
  {
   "cell_type": "code",
   "execution_count": 4,
   "outputs": [
    {
     "name": "stdout",
     "output_type": "stream",
     "text": [
      "ТОП-5 активных посетителей сайта\n",
      "+----+-----+\n",
      "|  id|count|\n",
      "+----+-----+\n",
      "|8980|   17|\n",
      "|1634|    7|\n",
      "|4120|    9|\n",
      "|3497|    9|\n",
      "|9998|    8|\n",
      "+----+-----+\n",
      "only showing top 5 rows\n",
      "\n"
     ]
    }
   ],
   "source": [
    "# Вывести топ-5 самых активных посетителей сайта\n",
    "print('ТОП-5 активных посетителей сайта')\n",
    "active = df.select(['id', ]).groupBy('id').count().show(5)"
   ],
   "metadata": {
    "collapsed": false,
    "pycharm": {
     "name": "#%%\n"
    }
   }
  },
  {
   "cell_type": "code",
   "execution_count": 5,
   "outputs": [
    {
     "name": "stdout",
     "output_type": "stream",
     "text": [
      "Процент посетителей с личным кабинетом: 60.0%\n"
     ]
    }
   ],
   "source": [
    "# Посчитать процент посетителей, у которых есть ЛК\n",
    "all_row = df.select(['id']).groupBy('id').count().count()\n",
    "sign = df.select(['id', 'sign']).filter(df.sign == True).groupBy('id').count().count()\n",
    "print('Процент посетителей с личным кабинетом: ', sign * 100 / all_row, '%', sep='')"
   ],
   "metadata": {
    "collapsed": false,
    "pycharm": {
     "name": "#%%\n"
    }
   }
  },
  {
   "cell_type": "code",
   "execution_count": 6,
   "outputs": [
    {
     "name": "stdout",
     "output_type": "stream",
     "text": [
      "ТОП-5 страниц по кликам\n",
      "+-------+-----+\n",
      "|page_id|count|\n",
      "+-------+-----+\n",
      "|   4007|    4|\n",
      "|   8049|    3|\n",
      "|   7863|    3|\n",
      "|   4969|    3|\n",
      "|   5360|    2|\n",
      "+-------+-----+\n",
      "only showing top 5 rows\n",
      "\n"
     ]
    }
   ],
   "source": [
    "# Вывести топ-5 страниц сайта по показателю общего кол-ва кликов на данной странице\n",
    "print('ТОП-5 страниц по кликам')\n",
    "df.select(['type', 'page_id']).filter(df.type == 'click').groupBy('page_id').count().sort(col('count').desc()).show(5)"
   ],
   "metadata": {
    "collapsed": false,
    "pycharm": {
     "name": "#%%\n"
    }
   }
  },
  {
   "cell_type": "code",
   "execution_count": 7,
   "outputs": [
    {
     "name": "stderr",
     "output_type": "stream",
     "text": [
      "D:\\java\\PythonProject\\SparkJupiter\\venv\\lib\\site-packages\\pyspark\\sql\\column.py:423: FutureWarning: A column as 'key' in getItem is deprecated as of Spark 3.0, and will not be supported in the future release. Use `column[key]` or `column.key` syntax instead.\n",
      "  FutureWarning,\n"
     ]
    },
    {
     "name": "stdout",
     "output_type": "stream",
     "text": [
      "+----+----------+------+-------+--------+-----+-----------+\n",
      "|  id| timestamp|  type|page_id|     tag| sign|time_period|\n",
      "+----+----------+------+-------+--------+-----+-----------+\n",
      "|8324|1668816000|scroll|   3778|medicine|false|        4-8|\n",
      "|8324|1668988800| click|    420| economy|false|      16-20|\n",
      "|3497|1668988800| visit|   4969|medicine|false|      16-20|\n",
      "|8980|1668988800|scroll|   4969|medicine| true|      20-24|\n",
      "|7089|1668902400|  move|   4007| economy|false|       8-12|\n",
      "+----+----------+------+-------+--------+-----+-----------+\n",
      "only showing top 5 rows\n",
      "\n"
     ]
    }
   ],
   "source": [
    "# Добавьте столбец к фрейму данных со значением временного диапазона в рамках суток с размером окна – 4 часа\n",
    "# (0-4, 4-8, 8-12 и т.д.)\n",
    "time_period = df.withColumn('time_period',\n",
    "                            array(lit('0-4'), lit('4-8'), lit('8-12'), lit('12-16'), lit('16-20'), lit('20-24'))\n",
    "                            .getItem((rand() * 6).cast('int')))\n",
    "time_period.show(5)"
   ],
   "metadata": {
    "collapsed": false,
    "pycharm": {
     "name": "#%%\n"
    }
   }
  },
  {
   "cell_type": "code",
   "execution_count": 8,
   "outputs": [
    {
     "name": "stdout",
     "output_type": "stream",
     "text": [
      "активность на сайте по временным промежуткам\n",
      "+-----------+-----+\n",
      "|time_period|count|\n",
      "+-----------+-----+\n",
      "|      12-16|   25|\n",
      "|        4-8|   18|\n",
      "|      20-24|   17|\n",
      "|      16-20|   17|\n",
      "|        0-4|   14|\n",
      "|       8-12|    9|\n",
      "+-----------+-----+\n",
      "\n"
     ]
    }
   ],
   "source": [
    "# Выведите временной промежуток на основе предыдущего задания,\n",
    "# в течение которого было больше всего активностей на сайте.\n",
    "print('активность на сайте по временным промежуткам')\n",
    "time_period.select(['time_period']).groupBy('time_period').count().sort(col('count').desc()).show()"
   ],
   "metadata": {
    "collapsed": false,
    "pycharm": {
     "name": "#%%\n"
    }
   }
  },
  {
   "cell_type": "code",
   "execution_count": 13,
   "outputs": [
    {
     "name": "stdout",
     "output_type": "stream",
     "text": [
      "+----+-------+--------------------+----------+-----------+\n",
      "|  id|user_id|                 fio|  birthday|create_date|\n",
      "+----+-------+--------------------+----------+-----------+\n",
      "|9038|   8980|Derrick Bartell S...|-175737600| 1657324800|\n",
      "|5486|   1634|Sen. Augustus Ste...| 250387200| 1648771200|\n",
      "|2499|   4120|Jamel Dibbert Far...| -51494400| 1642032000|\n",
      "| 165|   9998|  Blaine Hansen Rath| 987897600| 1649376000|\n",
      "|1517|   3677|     Neil Abbott Kub| 892944000| 1640390400|\n",
      "|7046|   4419|  Larisa Nader Runte|1125446400| 1646697600|\n",
      "+----+-------+--------------------+----------+-----------+\n",
      "\n"
     ]
    }
   ],
   "source": [
    "# Создайте второй фрейм данных, который будет содержать информацию о ЛК посетителя сайта\n",
    "# со следующим списком атрибутов\n",
    "\n",
    "# Id – уникальный идентификатор личного кабинета\n",
    "# User_id – уникальный идентификатор посетителя\n",
    "# ФИО посетителя\n",
    "# Дату рождения посетителя\n",
    "# Дата создания ЛК\n",
    "schema_2 = StructType([StructField(\"id\", IntegerType()),\n",
    "                       StructField(\"user_id\", IntegerType()),\n",
    "                       StructField(\"fio\", StringType()),\n",
    "                       StructField(\"birthday\", LongType()),\n",
    "                       StructField(\"create_date\", LongType()),\n",
    "                       ])\n",
    "\n",
    "data_2 = [\n",
    "    (9038, 8980, 'Derrick Bartell Schiller', -175737600, 1657324800),\n",
    "    (5486, 1634, 'Sen. Augustus Steuber Murray', 250387200, 1648771200),\n",
    "    (2499, 4120, 'Jamel Dibbert Farrell', -51494400, 1642032000),\n",
    "    (165, 9998, 'Blaine Hansen Rath', 987897600, 1649376000),\n",
    "    (1517, 3677, 'Neil Abbott Kub', 892944000, 1640390400),\n",
    "    (7046, 4419, 'Larisa Nader Runte', 1125446400, 1646697600),\n",
    "]\n",
    "\n",
    "df_2 = spark.createDataFrame(data=data_2, schema=schema_2).show()"
   ],
   "metadata": {
    "collapsed": false,
    "pycharm": {
     "name": "#%%\n"
    }
   }
  },
  {
   "cell_type": "code",
   "execution_count": 12,
   "outputs": [
    {
     "name": "stdout",
     "output_type": "stream",
     "text": [
      "ФИО и количество действий на страницах про спорт\n",
      "+--------------------+-----+\n",
      "|                 fio|count|\n",
      "+--------------------+-----+\n",
      "|  Blaine Hansen Rath|    3|\n",
      "|Sen. Augustus Ste...|    3|\n",
      "|  Larisa Nader Runte|    3|\n",
      "|Derrick Bartell S...|    2|\n",
      "|     Neil Abbott Kub|    2|\n",
      "|Jamel Dibbert Far...|    1|\n",
      "+--------------------+-----+\n",
      "\n"
     ]
    }
   ],
   "source": [
    "# Вывести фамилии посетителей, которые читали хотя бы одну новость про спорт.\n",
    "print('ФИО и количество действий на страницах про спорт')\n",
    "join = df.join(df_2, (df.id == df_2.user_id) & (df.tag == \"sport\") ,'inner')\\\n",
    "    .groupBy('fio').count().sort(col('count').desc())\n",
    "join.show()"
   ],
   "metadata": {
    "collapsed": false,
    "pycharm": {
     "name": "#%%\n"
    }
   }
  }
 ],
 "metadata": {
  "kernelspec": {
   "display_name": "Python 3",
   "language": "python",
   "name": "python3"
  },
  "language_info": {
   "codemirror_mode": {
    "name": "ipython",
    "version": 2
   },
   "file_extension": ".py",
   "mimetype": "text/x-python",
   "name": "python",
   "nbconvert_exporter": "python",
   "pygments_lexer": "ipython2",
   "version": "2.7.6"
  }
 },
 "nbformat": 4,
 "nbformat_minor": 0
}